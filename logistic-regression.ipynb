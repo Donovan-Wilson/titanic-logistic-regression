{
 "cells": [
  {
   "cell_type": "markdown",
   "metadata": {},
   "source": [
    "# Titanic Data Model Building\n",
    "## The following Notebook is for the building of a **Logistic Regression** model. \n",
    "### The goal of the project is to build a model that can predict whether a passenger survived."
   ]
  },
  {
   "cell_type": "markdown",
   "metadata": {},
   "source": [
    "First we import necessary dependancies"
   ]
  },
  {
   "cell_type": "code",
   "execution_count": 1,
   "metadata": {},
   "outputs": [],
   "source": [
    "import pandas as pd\n",
    "import numpy as np\n",
    "import seaborn as sns\n",
    "import matplotlib.pyplot as plt\n",
    "import math\n",
    "from sklearn.model_selection import train_test_split\n",
    "from sklearn.linear_model import LogisticRegression"
   ]
  },
  {
   "cell_type": "code",
   "execution_count": 2,
   "metadata": {},
   "outputs": [],
   "source": [
    "import mlflow\n",
    "import mlflow.sklearn"
   ]
  },
  {
   "cell_type": "markdown",
   "metadata": {},
   "source": [
    "We used this area for definitions of functions that are used"
   ]
  },
  {
   "cell_type": "code",
   "execution_count": 3,
   "metadata": {},
   "outputs": [],
   "source": [
    "def build_summary_table(input_data,model):\n",
    "    feature_names = np.transpose(input_data.columns.values)\n",
    "    summary_data = pd.DataFrame(feature_names,columns=[\"Feature\"])\n",
    "    summary_data['Coefficient'] = np.transpose(model.coef_)\n",
    "    summary_data.index = summary_data.index+1\n",
    "    summary_data.loc[0] = ['Intercept',model.intercept_[0]]\n",
    "    summary_data = summary_data.sort_index()\n",
    "    summary_data['Odds_Ratio'] = np.exp(summary_data['Coefficient'])\n",
    "    summary_data = summary_data.sort_values('Odds_Ratio',ascending=False)\n",
    "    return summary_data"
   ]
  },
  {
   "cell_type": "code",
   "execution_count": 4,
   "metadata": {},
   "outputs": [],
   "source": [
    "def build_summary_image(summary_data):\n",
    "    fig = plt.figure(figsize=(20,10))\n",
    "    plt.subplot(211)\n",
    "    sns.barplot(x='Feature', y = 'Coefficient',data=summary_data)\n",
    "    plt.subplot(212)\n",
    "    sns.barplot(x='Feature', y = 'Odds_Ratio',data=summary_data)\n",
    "    return fig"
   ]
  },
  {
   "cell_type": "code",
   "execution_count": 5,
   "metadata": {},
   "outputs": [
    {
     "data": {
      "text/html": [
       "<div>\n",
       "<style scoped>\n",
       "    .dataframe tbody tr th:only-of-type {\n",
       "        vertical-align: middle;\n",
       "    }\n",
       "\n",
       "    .dataframe tbody tr th {\n",
       "        vertical-align: top;\n",
       "    }\n",
       "\n",
       "    .dataframe thead th {\n",
       "        text-align: right;\n",
       "    }\n",
       "</style>\n",
       "<table border=\"1\" class=\"dataframe\">\n",
       "  <thead>\n",
       "    <tr style=\"text-align: right;\">\n",
       "      <th></th>\n",
       "      <th>pclass</th>\n",
       "      <th>is_female</th>\n",
       "      <th>Cherbourg</th>\n",
       "      <th>Queenstown</th>\n",
       "      <th>Southampton</th>\n",
       "      <th>age</th>\n",
       "      <th>sibsp</th>\n",
       "      <th>parch</th>\n",
       "      <th>fare</th>\n",
       "      <th>survived</th>\n",
       "    </tr>\n",
       "  </thead>\n",
       "  <tbody>\n",
       "    <tr>\n",
       "      <th>0</th>\n",
       "      <td>1</td>\n",
       "      <td>1</td>\n",
       "      <td>0</td>\n",
       "      <td>0</td>\n",
       "      <td>1</td>\n",
       "      <td>-0.008265</td>\n",
       "      <td>-0.479087</td>\n",
       "      <td>-0.445000</td>\n",
       "      <td>3.442584</td>\n",
       "      <td>1</td>\n",
       "    </tr>\n",
       "    <tr>\n",
       "      <th>1</th>\n",
       "      <td>1</td>\n",
       "      <td>0</td>\n",
       "      <td>0</td>\n",
       "      <td>0</td>\n",
       "      <td>1</td>\n",
       "      <td>-2.168193</td>\n",
       "      <td>0.481288</td>\n",
       "      <td>1.866526</td>\n",
       "      <td>2.286639</td>\n",
       "      <td>1</td>\n",
       "    </tr>\n",
       "    <tr>\n",
       "      <th>2</th>\n",
       "      <td>1</td>\n",
       "      <td>1</td>\n",
       "      <td>0</td>\n",
       "      <td>0</td>\n",
       "      <td>1</td>\n",
       "      <td>-2.084875</td>\n",
       "      <td>0.481288</td>\n",
       "      <td>1.866526</td>\n",
       "      <td>2.286639</td>\n",
       "      <td>0</td>\n",
       "    </tr>\n",
       "    <tr>\n",
       "      <th>3</th>\n",
       "      <td>1</td>\n",
       "      <td>0</td>\n",
       "      <td>0</td>\n",
       "      <td>0</td>\n",
       "      <td>1</td>\n",
       "      <td>0.068646</td>\n",
       "      <td>0.481288</td>\n",
       "      <td>1.866526</td>\n",
       "      <td>2.286639</td>\n",
       "      <td>0</td>\n",
       "    </tr>\n",
       "    <tr>\n",
       "      <th>4</th>\n",
       "      <td>1</td>\n",
       "      <td>1</td>\n",
       "      <td>0</td>\n",
       "      <td>0</td>\n",
       "      <td>1</td>\n",
       "      <td>-0.315911</td>\n",
       "      <td>0.481288</td>\n",
       "      <td>1.866526</td>\n",
       "      <td>2.286639</td>\n",
       "      <td>0</td>\n",
       "    </tr>\n",
       "  </tbody>\n",
       "</table>\n",
       "</div>"
      ],
      "text/plain": [
       "   pclass  is_female  Cherbourg  Queenstown  Southampton       age     sibsp  \\\n",
       "0       1          1          0           0            1 -0.008265 -0.479087   \n",
       "1       1          0          0           0            1 -2.168193  0.481288   \n",
       "2       1          1          0           0            1 -2.084875  0.481288   \n",
       "3       1          0          0           0            1  0.068646  0.481288   \n",
       "4       1          1          0           0            1 -0.315911  0.481288   \n",
       "\n",
       "      parch      fare  survived  \n",
       "0 -0.445000  3.442584         1  \n",
       "1  1.866526  2.286639         1  \n",
       "2  1.866526  2.286639         0  \n",
       "3  1.866526  2.286639         0  \n",
       "4  1.866526  2.286639         0  "
      ]
     },
     "execution_count": 5,
     "metadata": {},
     "output_type": "execute_result"
    }
   ],
   "source": [
    "data = pd.read_csv(\"preprocessed_titanic_data.csv\")\n",
    "data.head()"
   ]
  },
  {
   "cell_type": "markdown",
   "metadata": {},
   "source": [
    "We separate the input and target data and apply a 75/25 split"
   ]
  },
  {
   "cell_type": "code",
   "execution_count": 6,
   "metadata": {},
   "outputs": [
    {
     "name": "stdout",
     "output_type": "stream",
     "text": [
      "X Train :  (981, 9)\n",
      "Y Train :  (981, 1)\n",
      "X Test :  (328, 9)\n",
      "Y Test :  (328, 1)\n"
     ]
    }
   ],
   "source": [
    "x,y = data[['pclass','is_female','Cherbourg','Queenstown','Southampton','age','sibsp','parch','fare']], data[['survived']]\n",
    "x_train, x_test, y_train, y_test = train_test_split(x,y,test_size =0.25, random_state=42)\n",
    "print(\"X Train : \", str(x_train.shape) )\n",
    "print(\"Y Train : \", str(y_train.shape) )\n",
    "print(\"X Test : \", str(x_test.shape) )\n",
    "print(\"Y Test : \", str(y_test.shape) )"
   ]
  },
  {
   "cell_type": "markdown",
   "metadata": {},
   "source": [
    "We build and train the model"
   ]
  },
  {
   "cell_type": "code",
   "execution_count": 16,
   "metadata": {},
   "outputs": [
    {
     "name": "stderr",
     "output_type": "stream",
     "text": [
      "C:\\Users\\Donovan Wilson\\.conda\\envs\\myenv\\lib\\site-packages\\sklearn\\linear_model\\logistic.py:433: FutureWarning: Default solver will be changed to 'lbfgs' in 0.22. Specify a solver to silence this warning.\n",
      "  FutureWarning)\n",
      "C:\\Users\\Donovan Wilson\\.conda\\envs\\myenv\\lib\\site-packages\\sklearn\\utils\\validation.py:761: DataConversionWarning: A column-vector y was passed when a 1d array was expected. Please change the shape of y to (n_samples, ), for example using ravel().\n",
      "  y = column_or_1d(y, warn=True)\n"
     ]
    },
    {
     "name": "stdout",
     "output_type": "stream",
     "text": [
      "Accuracy :  79 %\n"
     ]
    },
    {
     "name": "stderr",
     "output_type": "stream",
     "text": [
      "Registered model 'Logistic_Regression_Model' already exists. Creating a new version of this model...\n",
      "Created version '2' of model 'Logistic_Regression_Model'.\n"
     ]
    },
    {
     "data": {
      "image/png": "[encoded data removed]",
      "text/plain": [
       "<Figure size 1440x720 with 2 Axes>"
      ]
     },
     "metadata": {
      "needs_background": "light"
     },
     "output_type": "display_data"
    }
   ],
   "source": [
    "mlflow.set_tracking_uri(\"http://localhost:5000\")\n",
    "experiment_name = \"Titanic\"\n",
    "mlflow.set_experiment(experiment_name)\n",
    "with mlflow.start_run():\n",
    "    #Build and Train Model\n",
    "    lr_model = LogisticRegression(random_state=0)\n",
    "    lr_model.fit(x_train,y_train)\n",
    "    \n",
    "    #Test Model\n",
    "    accuracy = lr_model.score(x_test,y_test)\n",
    "    print(\"Accuracy : \", str(int(accuracy*100)), \"%\")\n",
    "    mlflow.log_metric('Accuracy' , accuracy)\n",
    "    \n",
    "    #Decompose Model\n",
    "    summary_table = build_summary_table(x,lr_model)\n",
    "    summary_table.to_csv(\"Logistic_Regression_Model_Summary.csv\", index=False)\n",
    "    mlflow.log_artifact(\"Logistic_Regression_Model_Summary.csv\")\n",
    "    summary_chart = build_summary_image(summary_table)\n",
    "    summary_chart.savefig(\"Logistic_Regression_Model_Summary_Chart.png\")\n",
    "    mlflow.log_artifact(\"Logistic_Regression_Model_Summary_Chart.png\")\n",
    "    \n",
    "    mlflow.sklearn.log_model(lr_model, \"LR_Model\", registered_model_name = \"Logistic_Regression_Model\")\n",
    "    "
   ]
  },
  {
   "cell_type": "code",
   "execution_count": null,
   "metadata": {},
   "outputs": [],
   "source": []
  }
 ],
 "metadata": {
  "kernelspec": {
   "display_name": "Python 3",
   "language": "python",
   "name": "python3"
  },
  "language_info": {
   "codemirror_mode": {
    "name": "ipython",
    "version": 3
   },
   "file_extension": ".py",
   "mimetype": "text/x-python",
   "name": "python",
   "nbconvert_exporter": "python",
   "pygments_lexer": "ipython3",
   "version": "3.7.7"
  }
 },
 "nbformat": 4,
 "nbformat_minor": 4
}
