{
 "cells": [
  {
   "cell_type": "markdown",
   "metadata": {},
   "source": [
    "# Titanic Data Model Building\n",
    "## The following Notebook is for the building of a **Logistic Regression** model. \n",
    "### The goal of the project is to build a model that can predict whether a passenger survived."
   ]
  },
  {
   "cell_type": "markdown",
   "metadata": {},
   "source": [
    "First we import necessary dependancies"
   ]
  },
  {
   "cell_type": "code",
   "execution_count": null,
   "metadata": {},
   "outputs": [],
   "source": [
    "import pandas as pd\n",
    "import numpy as np\n",
    "import seaborn as sns\n",
    "import matplotlib.pyplot as plt\n",
    "import math\n",
    "from sklearn.model_selection import train_test_split\n",
    "from sklearn.linear_model import LogisticRegression"
   ]
  },
  {
   "cell_type": "code",
   "execution_count": null,
   "metadata": {},
   "outputs": [],
   "source": [
    "import mlflow\n",
    "import mlflow.sklearn"
   ]
  },
  {
   "cell_type": "markdown",
   "metadata": {},
   "source": [
    "We used this area for definitions of functions that are used"
   ]
  },
  {
   "cell_type": "code",
   "execution_count": null,
   "metadata": {},
   "outputs": [],
   "source": [
    "def build_summary_table(input_data,model):\n",
    "    feature_names = np.transpose(input_data.columns.values)\n",
    "    summary_data = pd.DataFrame(feature_names,columns=[\"Feature\"])\n",
    "    summary_data['Coefficient'] = np.transpose(model.coef_)\n",
    "    summary_data.index = summary_data.index+1\n",
    "    summary_data.loc[0] = ['Intercept',model.intercept_[0]]\n",
    "    summary_data = summary_data.sort_index()\n",
    "    summary_data['Odds_Ratio'] = np.exp(summary_data['Coefficient'])\n",
    "    summary_data = summary_data.sort_values('Odds_Ratio',ascending=False)\n",
    "    return summary_data"
   ]
  },
  {
   "cell_type": "code",
   "execution_count": null,
   "metadata": {},
   "outputs": [],
   "source": [
    "def build_summary_image(summary_data):\n",
    "    fig = plt.figure(figsize=(20,10))\n",
    "    plt.subplot(211)\n",
    "    sns.barplot(x='Feature', y = 'Coefficient',data=summary_data)\n",
    "    plt.subplot(212)\n",
    "    sns.barplot(x='Feature', y = 'Odds_Ratio',data=summary_data)\n",
    "    return fig"
   ]
  },
  {
   "cell_type": "code",
   "execution_count": null,
   "metadata": {},
   "outputs": [],
   "source": [
    "data = pd.read_csv(\"preprocessed_titanic_data.csv\")\n",
    "data.head()"
   ]
  },
  {
   "cell_type": "markdown",
   "metadata": {},
   "source": [
    "We separate the input and target data and apply a 75/25 split"
   ]
  },
  {
   "cell_type": "code",
   "execution_count": null,
   "metadata": {},
   "outputs": [],
   "source": [
    "x,y = data[['pclass','is_female','Cherbourg','Queenstown','Southampton','age','sibsp','parch','fare']], data[['survived']]\n",
    "x_train, x_test, y_train, y_test = train_test_split(x,y,test_size =0.25, random_state=42)\n",
    "print(\"X Train : \", str(x_train.shape) )\n",
    "print(\"Y Train : \", str(y_train.shape) )\n",
    "print(\"X Test : \", str(x_test.shape) )\n",
    "print(\"Y Test : \", str(y_test.shape) )"
   ]
  },
  {
   "cell_type": "markdown",
   "metadata": {},
   "source": [
    "We build and train the model"
   ]
  },
  {
   "cell_type": "code",
   "execution_count": null,
   "metadata": {},
   "outputs": [],
   "source": [
    "mlflow.set_tracking_uri(\"http://localhost:5000\")\n",
    "experiment_name = \"titanic-prediction\"\n",
    "mlflow.set_experiment(experiment_name)\n",
    "with mlflow.start_run():\n",
    "    #Build and Train Model\n",
    "    lr_model = LogisticRegression(random_state=0)\n",
    "    lr_model.fit(x_train,y_train)\n",
    "    \n",
    "    #Test Model\n",
    "    accuracy = lr_model.score(x_test,y_test)\n",
    "    print(\"Accuracy : \", str(int(accuracy*100)), \"%\")\n",
    "    mlflow.log_metric('Accuracy' , accuracy)\n",
    "    \n",
    "    #Decompose Model\n",
    "    summary_table = build_summary_table(x,lr_model)\n",
    "    summary_table.to_csv(\"Logistic_Regression_Model_Summary.csv\", index=False)\n",
    "    mlflow.log_artifact(\"Logistic_Regression_Model_Summary.csv\")\n",
    "    summary_chart = build_summary_image(summary_table)\n",
    "    summary_chart.savefig(\"Logistic_Regression_Model_Summary_Chart.png\")\n",
    "    mlflow.log_artifact(\"Logistic_Regression_Model_Summary_Chart.png\")\n",
    "    \n",
    "    mlflow.sklearn.log_model(lr_model, \"LR_Model\", registered_model_name = \"Logistic_Regression_Model\")\n",
    "    print(mlflow.get_artifact_uri())\n",
    "    "
   ]
  },
  {
   "cell_type": "code",
   "execution_count": null,
   "metadata": {},
   "outputs": [],
   "source": []
  }
 ],
 "metadata": {
  "kernelspec": {
   "display_name": "Python 3",
   "language": "python",
   "name": "python3"
  },
  "language_info": {
   "codemirror_mode": {
    "name": "ipython",
    "version": 3
   },
   "file_extension": ".py",
   "mimetype": "text/x-python",
   "name": "python",
   "nbconvert_exporter": "python",
   "pygments_lexer": "ipython3",
   "version": "3.7.7"
  }
 },
 "nbformat": 4,
 "nbformat_minor": 4
}
